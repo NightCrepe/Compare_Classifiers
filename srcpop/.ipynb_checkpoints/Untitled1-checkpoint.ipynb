{
 "cells": [
  {
   "cell_type": "markdown",
   "id": "57e00015-2910-440c-bdce-5836120e564d",
   "metadata": {},
   "source": [
    "Classifier Rankings\n",
    "    which classifier does best\n",
    "Variable Selection using random forest"
   ]
  },
  {
   "cell_type": "code",
   "execution_count": null,
   "id": "4299ca2e-f1c5-4d63-bcd9-e00166899d6e",
   "metadata": {},
   "outputs": [],
   "source": [
    "%run pylib/fermi_sources-new\n",
    "fs_data = FermiSources('files/fermi_sources_v2.csv')"
   ]
  }
 ],
 "metadata": {
  "kernelspec": {
   "display_name": "Python 3 (ipykernel)",
   "language": "python",
   "name": "python3"
  },
  "language_info": {
   "codemirror_mode": {
    "name": "ipython",
    "version": 3
   },
   "file_extension": ".py",
   "mimetype": "text/x-python",
   "name": "python",
   "nbconvert_exporter": "python",
   "pygments_lexer": "ipython3",
   "version": "3.8.10"
  }
 },
 "nbformat": 4,
 "nbformat_minor": 5
}

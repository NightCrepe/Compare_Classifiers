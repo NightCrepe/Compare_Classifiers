{
 "cells": [
  {
   "cell_type": "code",
   "execution_count": 1,
   "id": "e5467f90-c82a-4121-8e10-96962a4d1e30",
   "metadata": {},
   "outputs": [
    {
     "data": {
      "text/markdown": [
       "Read 6699 source entries from `files/fermi_sources_v2.csv`, selected 6491 with criteria 'delta<0.25 & curvature<1.01'"
      ],
      "text/plain": [
       "<utilities.ipynb_docgen.doc_formatter.<locals>.MimeBundleObject at 0x7f9b0e993dc0>"
      ]
     },
     "metadata": {},
     "output_type": "display_data"
    }
   ],
   "source": [
    "%run pylib/fermi_sources-new\n",
    "fs_data = FermiSources('files/fermi_sources_v2.csv')\n",
    "#train = DataSet('log_nbb log_epeak pindex curvature category'.split(), 'bll fsrq psr'.split())"
   ]
  },
  {
   "cell_type": "code",
   "execution_count": 2,
   "id": "1923eab3-714f-47f7-9d27-31a0fae2f1ca",
   "metadata": {},
   "outputs": [],
   "source": [
    "X,ay = fs_data.getXy(fs_data.mlspec)"
   ]
  },
  {
   "cell_type": "code",
   "execution_count": 3,
   "id": "ed55147f-488b-460c-9704-f42c2c7d9b7e",
   "metadata": {},
   "outputs": [],
   "source": [
    "y = ay.copy()\n",
    "for t in range(ay.size):\n",
    "    if ay[t] == 'bll':\n",
    "        y[t] = 0\n",
    "    elif ay[t] == 'fsrq':\n",
    "        y[t] = 1\n",
    "    elif ay[t] == 'psr':\n",
    "        y[t] = 2"
   ]
  },
  {
   "cell_type": "markdown",
   "id": "22af116f-a805-4c2a-95c9-891ea777c846",
   "metadata": {},
   "source": [
    "make 10 plots (1 for each classifier) with 1 variable for each axis (variables used for training), have the resulting plots have 3 colors for the source classification.\n",
    "\n",
    "\n",
    "Step 1: Train the program and isolate all the unidentified sources\n",
    "\n",
    "Step 2: Select 2 variables to plot\n",
    "\n",
    "Step 3: Be able to have 3 catagories\n",
    "\n",
    "Step 4: Make scatter plot of sources\n",
    "\n",
    "Step 5: Test accuracy of sources using different classifiers"
   ]
  },
  {
   "cell_type": "code",
   "execution_count": 4,
   "id": "32b4119a-0d06-4308-a998-08915ed7bc22",
   "metadata": {},
   "outputs": [],
   "source": [
    "from pathlib import Path\n",
    "import os, sys, glob\n",
    "import numpy as np\n",
    "import matplotlib.pyplot as plt\n",
    "from matplotlib.colors import ListedColormap\n",
    "from sklearn.model_selection import train_test_split\n",
    "from sklearn.preprocessing import StandardScaler\n",
    "from sklearn.pipeline import make_pipeline\n",
    "from sklearn.datasets import make_moons, make_circles, make_classification\n",
    "from sklearn.neural_network import MLPClassifier\n",
    "from sklearn.neighbors import KNeighborsClassifier\n",
    "from sklearn.svm import SVC\n",
    "from sklearn.gaussian_process import GaussianProcessClassifier\n",
    "from sklearn.gaussian_process.kernels import RBF\n",
    "from sklearn.tree import DecisionTreeClassifier\n",
    "from sklearn.ensemble import RandomForestClassifier, AdaBoostClassifier\n",
    "from sklearn.naive_bayes import GaussianNB\n",
    "from sklearn.discriminant_analysis import QuadraticDiscriminantAnalysis\n",
    "from sklearn.inspection import DecisionBoundaryDisplay"
   ]
  },
  {
   "cell_type": "markdown",
   "id": "47ea01db-6329-49dc-9b1f-69a8c722b57f",
   "metadata": {},
   "source": [
    "<h1> Red: BLL | Blue: Psr | Green: FSRQ </h1>"
   ]
  },
  {
   "cell_type": "code",
   "execution_count": 9,
   "id": "59f543cf-65ab-4a1f-9f41-e5d122995f8c",
   "metadata": {},
   "outputs": [
    {
     "name": "stdout",
     "output_type": "stream",
     "text": [
      "Nearest Neighbors\n",
      "Linear SVM\n",
      "RBF SVM\n",
      "Decision Tree\n",
      "Random Forest\n",
      "Neural Net\n",
      "AdaBoost\n",
      "Naive Bayes\n",
      "QDA\n"
     ]
    },
    {
     "data": {
      "text/plain": [
       "<Figure size 1100x1600 with 0 Axes>"
      ]
     },
     "metadata": {},
     "output_type": "display_data"
    }
   ],
   "source": [
    "p = Path('new_plots/classifier_results_grids')\n",
    "p.mkdir(exist_ok=True)\n",
    "\n",
    "names = [\n",
    "    \"Nearest Neighbors\",\n",
    "    \"Linear SVM\",\n",
    "    \"RBF SVM\",\n",
    "    #\"Gaussian Process\",\n",
    "    \"Decision Tree\",\n",
    "    \"Random Forest\",\n",
    "    \"Neural Net\",\n",
    "    \"AdaBoost\",\n",
    "    \"Naive Bayes\",\n",
    "    \"QDA\",\n",
    "]\n",
    "\n",
    "classifiers = [\n",
    "    KNeighborsClassifier(3),\n",
    "    SVC(kernel=\"linear\", C=0.025),\n",
    "    SVC(gamma=2, C=1),\n",
    "    #GaussianProcessClassifier(1.0 * RBF(1.0)),\n",
    "    DecisionTreeClassifier(),\n",
    "    RandomForestClassifier(n_estimators=100, max_features=2),\n",
    "    MLPClassifier(alpha=1, max_iter=1000),\n",
    "    AdaBoostClassifier(),\n",
    "    GaussianNB(),\n",
    "    QuadraticDiscriminantAnalysis(),\n",
    "]\n",
    "\n",
    "# the data sets\n",
    "datasets = [\n",
    "    (X.iloc[:,:2],y), #log_nbb and log_epeak\n",
    "    (X.iloc[:,::2],y), #log_nbb and pindex\n",
    "    (X.iloc[:,::3],y), #log_nbb and curvature\n",
    "    (X.iloc[:,1:3],y), #epeak and pindex\n",
    "    (X.iloc[:,1::2],y), #epeak and curvature\n",
    "    (X.iloc[:,2:4],y) #pindex and curvature\n",
    "]\n",
    "\n",
    "figure = plt.figure(figsize=(11, 16))\n",
    "\n",
    "i = 1\n",
    "#raw data\n",
    "for ds_cnt, ds in enumerate(datasets):\n",
    "    \n",
    "    # preprocess dataset, split into training and test part\n",
    "    theX, they = ds\n",
    "    X_train, X_test, y_train, y_test = train_test_split(\n",
    "        theX, they, test_size=0.4, random_state=42\n",
    "    )\n",
    "\n",
    "    x_min, x_max = theX.iloc[:, 0].min() - 0.5, theX.iloc[:, 0].max() + 0.5\n",
    "    y_min, y_max = theX.iloc[:, 1].min() - 0.5, theX.iloc[:, 1].max() + 0.5\n",
    "\n",
    "    # just plot the dataset first\n",
    "    cm = plt.cm.rainbow\n",
    "    cm_bright = ListedColormap([\"#5F00DB\", \"#5EDA94\", \"#DB0000\"]) #in order: bll, fsrq, psr\n",
    "    ax = plt.subplot(len(datasets), 3, i)\n",
    "    if ds_cnt == 0:\n",
    "        ax.set_title(\"Input data\")\n",
    "        \n",
    "    # Plot the training points\n",
    "    ax.scatter(X_train.iloc[:, 0], X_train.iloc[:, 1], c=y_train, cmap=cm_bright, edgecolors=\"k\")\n",
    "    \n",
    "    # Plot the testing points\n",
    "    ax.scatter(\n",
    "        X_test.iloc[:, 0], X_test.iloc[:, 1], c=y_test, cmap=cm_bright, alpha=0.6, edgecolors=\"k\"\n",
    "    )\n",
    "    ax.set_xlim(x_min, x_max)\n",
    "    ax.set_ylim(y_min, y_max)\n",
    "    ax.set_xticks(())\n",
    "    ax.set_yticks(())\n",
    "    i += 1\n",
    "    \n",
    "filename = p/'raw.png'\n",
    "plt.savefig(filename, bbox_inches='tight')\n",
    "\n",
    "\n",
    "# iterate over classifiers\n",
    "for name, clf in zip(names, classifiers):\n",
    "    i = 1\n",
    "    for ds_cnt, ds in enumerate(datasets):\n",
    "        theX, they = ds\n",
    "        X_train, X_test, y_train, y_test = train_test_split(\n",
    "            theX, they, test_size=0.4, random_state=42\n",
    "        )\n",
    "        \n",
    "        x_min, x_max = theX.iloc[:, 0].min() - 0.5, theX.iloc[:, 0].max() + 0.5\n",
    "        y_min, y_max = theX.iloc[:, 1].min() - 0.5, theX.iloc[:, 1].max() + 0.5\n",
    "        \n",
    "        ax = plt.subplot(len(datasets), 3, i)\n",
    "\n",
    "        clf = make_pipeline(StandardScaler(), clf)\n",
    "        clf.fit(X_train, y_train.to_numpy(dtype='int64'))\n",
    "        score = clf.score(X_test, y_test.to_numpy(dtype='int64'))\n",
    "        DecisionBoundaryDisplay.from_estimator(\n",
    "            clf, theX, cmap=cm, alpha=0.8, ax=ax, eps=0.5\n",
    "        )\n",
    "\n",
    "        # Plot the training points\n",
    "        ax.scatter(\n",
    "            X_train.iloc[:, 0], X_train.iloc[:, 1], c=y_train, cmap=cm_bright, edgecolors=\"k\"\n",
    "        )\n",
    "        # Plot the testing points\n",
    "        ax.scatter(\n",
    "            X_test.iloc[:, 0],\n",
    "            X_test.iloc[:, 1],\n",
    "            c=y_test,\n",
    "            cmap=cm_bright,\n",
    "            edgecolors=\"k\",\n",
    "            alpha=0.6,\n",
    "        )\n",
    "\n",
    "        ax.set_xlim(x_min, x_max)\n",
    "        ax.set_ylim(y_min, y_max)\n",
    "        ax.set_xticks(())\n",
    "        ax.set_yticks(())\n",
    "        if ds_cnt == 0:\n",
    "            ax.set_title(name)\n",
    "        ax.text(\n",
    "            x_max - 0.3,\n",
    "            y_min + 0.3,\n",
    "            (\"%.2f\" % score).lstrip(\"0\"),\n",
    "            size=15,\n",
    "            horizontalalignment=\"right\",\n",
    "        )\n",
    "        i += 1\n",
    "        \n",
    "    filename = p/f'{name}'\n",
    "    plt.tight_layout()\n",
    "    plt.savefig(f'{filename}_plt.png', bbox_inches='tight')\n",
    "        \n",
    "    figure.clear()\n",
    "    print(name)\n",
    "    \n"
   ]
  },
  {
   "cell_type": "markdown",
   "id": "d0af8719-b613-429c-b080-e3e809fbca51",
   "metadata": {},
   "source": [
    "<h2>With epeak</h2>\n",
    "\n",
    "AdaBoost: 78.66%\n",
    "\n",
    "Decision Tree: 71.17%\n",
    "\n",
    "Gaussian Process: 80.5%\n",
    "\n",
    "Linear SVM: 75.83%\n",
    "\n",
    "Naive Bayes: 76.66%\n",
    "\n",
    "Nearest Neighbor: 75.33%\n",
    "\n",
    "Neural Net: 79.17%\n",
    "\n",
    "QDA: 77.5%\n",
    "\n",
    "Random Forest: 74.67%\n",
    "\n",
    "RBF SVM: 79%"
   ]
  },
  {
   "cell_type": "markdown",
   "id": "49aa6cf9-679e-4e7e-8e1d-872f13513ebc",
   "metadata": {},
   "source": [
    "AdaBoost: 78.66%\n",
    "\n",
    "Decision Tree: 72.5%\n",
    "\n",
    "Gaussian Process: 80.5%\n",
    "\n",
    "Linear SVM: 79.33%\n",
    "\n",
    "Naive Bayes: 79.16%\n",
    "\n",
    "Nearest Neighbor: 77%\n",
    "\n",
    "Neural Net: 80.66%\n",
    "\n",
    "QDA: 79.5%\n",
    "\n",
    "Random Forest: 76%\n",
    "\n",
    "RBF SVM: 80.83%"
   ]
  },
  {
   "cell_type": "code",
   "execution_count": 5,
   "id": "39aa97e1-e122-4558-af74-11078dab4151",
   "metadata": {},
   "outputs": [
    {
     "data": {
      "text/markdown": [
       "Read 6699 source entries from `files/fermi_sources_v2.csv`, selected 6491 with criteria 'delta<0.25 & curvature<1.01'"
      ],
      "text/plain": [
       "<utilities.ipynb_docgen.doc_formatter.<locals>.MimeBundleObject at 0x7f9b0d338e50>"
      ]
     },
     "metadata": {},
     "output_type": "display_data"
    }
   ],
   "source": [
    "unid =  FermiSources('files/fermi_sources_v2.csv')\n",
    "specs = MLspec(features=('log_nbb','log_epeak','pindex','curvature'), target='association', target_names=('unid'))\n",
    "X_te = unid.getXy(specs)[0]"
   ]
  },
  {
   "cell_type": "code",
   "execution_count": null,
   "id": "a0a3af50-c9b7-4d86-8a37-3938e9b7bd13",
   "metadata": {
    "tags": []
   },
   "outputs": [
    {
     "name": "stdout",
     "output_type": "stream",
     "text": [
      "Nearest Neighbors\n",
      "Linear SVM\n"
     ]
    }
   ],
   "source": [
    "p = Path('new_plots/single_sources_plots')\n",
    "p.mkdir(exist_ok=True)\n",
    "\n",
    "names = [\n",
    "    \"Nearest Neighbors\",\n",
    "    \"Linear SVM\",\n",
    "    \"RBF SVM\",\n",
    "    #\"Gaussian Process\",\n",
    "    \"Decision Tree\",\n",
    "    \"Random Forest\",\n",
    "    \"Neural Net\",\n",
    "    \"AdaBoost\",\n",
    "    \"Naive Bayes\",\n",
    "    \"QDA\",\n",
    "]\n",
    "\n",
    "classifiers = [\n",
    "    KNeighborsClassifier(3),\n",
    "    SVC(kernel=\"linear\", C=0.025),\n",
    "    SVC(gamma=2, C=1),\n",
    "    #GaussianProcessClassifier(),\n",
    "    DecisionTreeClassifier(),\n",
    "    RandomForestClassifier(n_estimators=100, max_features=2),\n",
    "    MLPClassifier(alpha=1, max_iter=1000),\n",
    "    AdaBoostClassifier(),\n",
    "    GaussianNB(),\n",
    "    QuadraticDiscriminantAnalysis(),\n",
    "]\n",
    "\n",
    "# the data sets\n",
    "datasets = [\n",
    "    (X.iloc[:,:2],y), #log_nbb and log_epeak\n",
    "    (X.iloc[:,::2],y), #log_nbb and pindex\n",
    "    (X.iloc[:,::3],y), #log_nbb and curvature\n",
    "    (X.iloc[:,1:3],y), #epeak and pindex\n",
    "    (X.iloc[:,1::2],y), #epeak and curvature\n",
    "    (X.iloc[:,2:4],y) #pindex and curvature\n",
    "]\n",
    "\n",
    "testval = [\n",
    "    (X_te.iloc[:,:2],y), #log_nbb and log_epeak\n",
    "    (X_te.iloc[:,::2],y), #log_nbb and pindex\n",
    "    (X_te.iloc[:,::3],y), #log_nbb and curvature\n",
    "    (X_te.iloc[:,1:3],y), #epeak and pindex\n",
    "    (X_te.iloc[:,1::2],y), #epeak and curvature\n",
    "    (X_te.iloc[:,2:4],y) #pindex and curvature\n",
    "]\n",
    "\n",
    "figure = plt.figure(figsize=(22, 32)) #grid size:11,16 | single size\n",
    "\n",
    "# iterate over classifiers\n",
    "for name, clf in zip(names, classifiers):\n",
    "    i = 1\n",
    "    j = 0\n",
    "    \n",
    "    dirpath = os.path.join(p, name)\n",
    "    #try:\n",
    "    #    os.mkdir(dirpath)\n",
    "    #except FileExistsError:\n",
    "    #    print('Directory {} already exists'.format(dirpath))\n",
    "    #else:\n",
    "    #    print('Directory {} created'.format(dirpath))\n",
    "    newp = Path(dirpath)\n",
    "\n",
    "    for ds_cnt, ds in enumerate(datasets):\n",
    "        theX, they = ds\n",
    "        model = clf\n",
    "        model.fit(X,ay)\n",
    "        \n",
    "        Xnew = testval[j][0]\n",
    "        ynew = model.predict(X_te)\n",
    "        \n",
    "        x_min, x_max = theX.iloc[:, 0].min() - 0.5, theX.iloc[:, 0].max() + 0.5\n",
    "        y_min, y_max = theX.iloc[:, 1].min() - 0.5, theX.iloc[:, 1].max() + 0.5\n",
    "\n",
    "        cm = plt.cm.rainbow\n",
    "        cm_bright = ListedColormap([\"#5F00DB\", \"#5EDA94\", \"#DB0000\"]) #in order: bll, fsrq, psr\n",
    "        \n",
    "        ax = plt.subplot(len(datasets), 3, i)\n",
    "\n",
    "        clf = make_pipeline(StandardScaler(), clf)\n",
    "        clf.fit(theX, they.to_numpy(dtype='int64'))\n",
    "        #score = clf.score(Xnew, ynew)\n",
    "        DecisionBoundaryDisplay.from_estimator(\n",
    "            clf, theX, cmap=cm, alpha=0.8, ax=ax, eps=0.5\n",
    "        )\n",
    "        \n",
    "        #Plot the training points\n",
    "        #ax.scatter(\n",
    "        #   theX.iloc[:, 0], theX.iloc[:, 1], c=they, cmap=cm_bright, edgecolors=\"k\", alpha=0.6,\n",
    "        #)\n",
    "        # Plot the testing points\n",
    "        \n",
    "        ycopy = ynew.copy()\n",
    "        for t in range(ynew.size):\n",
    "            if ynew[t] == 'bll':\n",
    "                ycopy[t] = 0\n",
    "            elif ynew[t] == 'fsrq':\n",
    "                ycopy[t] = 1\n",
    "            elif ynew[t] == 'psr':\n",
    "                ycopy[t] = 2\n",
    "        ax.scatter(\n",
    "            Xnew.iloc[:, 0],\n",
    "            Xnew.iloc[:, 1],\n",
    "            c=ycopy.astype(int),\n",
    "            marker = '*',\n",
    "            cmap=cm_bright,\n",
    "            edgecolors=\"k\",\n",
    "            alpha=0.8,\n",
    "        )\n",
    "\n",
    "        ax.set_xlim(x_min, x_max)\n",
    "        ax.set_ylim(y_min, y_max)\n",
    "        ax.set_xticks(())\n",
    "        ax.set_yticks(())\n",
    "        if ds_cnt == 0:\n",
    "            ax.set_title(name)\n",
    "        #ax.text(\n",
    "        #    x_max - 0.3,\n",
    "        #    y_min + 0.3,\n",
    "        #    (\"%.2f\" % score).lstrip(\"0\"),\n",
    "        #    size=15,\n",
    "        #    horizontalalignment=\"right\",\n",
    "        #)\n",
    "        \n",
    "       \n",
    "        \n",
    "        \n",
    "        filename = newp/f'{name}'\n",
    "        plt.tight_layout()\n",
    "        plt.savefig(f'{filename}_plt_{i}.png', bbox_inches='tight')\n",
    "        i += 1\n",
    "        j += 1\n",
    "        figure.clear()\n",
    "        \n",
    "    print(name)\n",
    "    \n"
   ]
  },
  {
   "cell_type": "code",
   "execution_count": 30,
   "id": "acbc1264-f399-4a1d-afea-902863dfa5a8",
   "metadata": {},
   "outputs": [
    {
     "ename": "ValueError",
     "evalue": "Could not interpret value `plex` for parameter `style`",
     "output_type": "error",
     "traceback": [
      "\u001b[0;31m---------------------------------------------------------------------------\u001b[0m",
      "\u001b[0;31mValueError\u001b[0m                                Traceback (most recent call last)",
      "Cell \u001b[0;32mIn [30], line 3\u001b[0m\n\u001b[1;32m      1\u001b[0m df \u001b[38;5;241m=\u001b[39m pd\u001b[38;5;241m.\u001b[39mread_csv(\u001b[38;5;124m\"\u001b[39m\u001b[38;5;124mfiles/fermi_sources_v2.csv\u001b[39m\u001b[38;5;124m\"\u001b[39m)\n\u001b[0;32m----> 3\u001b[0m sns\u001b[38;5;241m.\u001b[39mscatterplot(df, x\u001b[38;5;241m=\u001b[39mtheX\u001b[38;5;241m.\u001b[39miloc[:, \u001b[38;5;241m0\u001b[39m], y\u001b[38;5;241m=\u001b[39mtheX\u001b[38;5;241m.\u001b[39miloc[:, \u001b[38;5;241m1\u001b[39m], hue\u001b[38;5;241m=\u001b[39mthey, \n\u001b[1;32m      4\u001b[0m                 style\u001b[38;5;241m=\u001b[39m\u001b[38;5;124m'\u001b[39m\u001b[38;5;124mplex\u001b[39m\u001b[38;5;124m'\u001b[39m, s\u001b[38;5;241m=\u001b[39m\u001b[38;5;241m100\u001b[39m, alpha\u001b[38;5;241m=\u001b[39m\u001b[38;5;241m0.6\u001b[39m)\n",
      "File \u001b[0;32m~/.local/lib/python3.8/site-packages/seaborn/relational.py:742\u001b[0m, in \u001b[0;36mscatterplot\u001b[0;34m(data, x, y, hue, size, style, palette, hue_order, hue_norm, sizes, size_order, size_norm, markers, style_order, legend, ax, **kwargs)\u001b[0m\n\u001b[1;32m    732\u001b[0m \u001b[38;5;28;01mdef\u001b[39;00m \u001b[38;5;21mscatterplot\u001b[39m(\n\u001b[1;32m    733\u001b[0m     data\u001b[38;5;241m=\u001b[39m\u001b[38;5;28;01mNone\u001b[39;00m, \u001b[38;5;241m*\u001b[39m,\n\u001b[1;32m    734\u001b[0m     x\u001b[38;5;241m=\u001b[39m\u001b[38;5;28;01mNone\u001b[39;00m, y\u001b[38;5;241m=\u001b[39m\u001b[38;5;28;01mNone\u001b[39;00m, hue\u001b[38;5;241m=\u001b[39m\u001b[38;5;28;01mNone\u001b[39;00m, size\u001b[38;5;241m=\u001b[39m\u001b[38;5;28;01mNone\u001b[39;00m, style\u001b[38;5;241m=\u001b[39m\u001b[38;5;28;01mNone\u001b[39;00m,\n\u001b[0;32m   (...)\u001b[0m\n\u001b[1;32m    738\u001b[0m     \u001b[38;5;241m*\u001b[39m\u001b[38;5;241m*\u001b[39mkwargs\n\u001b[1;32m    739\u001b[0m ):\n\u001b[1;32m    741\u001b[0m     variables \u001b[38;5;241m=\u001b[39m _ScatterPlotter\u001b[38;5;241m.\u001b[39mget_semantics(\u001b[38;5;28mlocals\u001b[39m())\n\u001b[0;32m--> 742\u001b[0m     p \u001b[38;5;241m=\u001b[39m \u001b[43m_ScatterPlotter\u001b[49m\u001b[43m(\u001b[49m\u001b[43mdata\u001b[49m\u001b[38;5;241;43m=\u001b[39;49m\u001b[43mdata\u001b[49m\u001b[43m,\u001b[49m\u001b[43m \u001b[49m\u001b[43mvariables\u001b[49m\u001b[38;5;241;43m=\u001b[39;49m\u001b[43mvariables\u001b[49m\u001b[43m,\u001b[49m\u001b[43m \u001b[49m\u001b[43mlegend\u001b[49m\u001b[38;5;241;43m=\u001b[39;49m\u001b[43mlegend\u001b[49m\u001b[43m)\u001b[49m\n\u001b[1;32m    744\u001b[0m     p\u001b[38;5;241m.\u001b[39mmap_hue(palette\u001b[38;5;241m=\u001b[39mpalette, order\u001b[38;5;241m=\u001b[39mhue_order, norm\u001b[38;5;241m=\u001b[39mhue_norm)\n\u001b[1;32m    745\u001b[0m     p\u001b[38;5;241m.\u001b[39mmap_size(sizes\u001b[38;5;241m=\u001b[39msizes, order\u001b[38;5;241m=\u001b[39msize_order, norm\u001b[38;5;241m=\u001b[39msize_norm)\n",
      "File \u001b[0;32m~/.local/lib/python3.8/site-packages/seaborn/relational.py:538\u001b[0m, in \u001b[0;36m_ScatterPlotter.__init__\u001b[0;34m(self, data, variables, legend)\u001b[0m\n\u001b[1;32m    529\u001b[0m \u001b[38;5;28;01mdef\u001b[39;00m \u001b[38;5;21m__init__\u001b[39m(\u001b[38;5;28mself\u001b[39m, \u001b[38;5;241m*\u001b[39m, data\u001b[38;5;241m=\u001b[39m\u001b[38;5;28;01mNone\u001b[39;00m, variables\u001b[38;5;241m=\u001b[39m{}, legend\u001b[38;5;241m=\u001b[39m\u001b[38;5;28;01mNone\u001b[39;00m):\n\u001b[1;32m    530\u001b[0m \n\u001b[1;32m    531\u001b[0m     \u001b[38;5;66;03m# TODO this is messy, we want the mapping to be agnostic about\u001b[39;00m\n\u001b[1;32m    532\u001b[0m     \u001b[38;5;66;03m# the kind of plot to draw, but for the time being we need to set\u001b[39;00m\n\u001b[1;32m    533\u001b[0m     \u001b[38;5;66;03m# this information so the SizeMapping can use it\u001b[39;00m\n\u001b[1;32m    534\u001b[0m     \u001b[38;5;28mself\u001b[39m\u001b[38;5;241m.\u001b[39m_default_size_range \u001b[38;5;241m=\u001b[39m (\n\u001b[1;32m    535\u001b[0m         np\u001b[38;5;241m.\u001b[39mr_[\u001b[38;5;241m.5\u001b[39m, \u001b[38;5;241m2\u001b[39m] \u001b[38;5;241m*\u001b[39m np\u001b[38;5;241m.\u001b[39msquare(mpl\u001b[38;5;241m.\u001b[39mrcParams[\u001b[38;5;124m\"\u001b[39m\u001b[38;5;124mlines.markersize\u001b[39m\u001b[38;5;124m\"\u001b[39m])\n\u001b[1;32m    536\u001b[0m     )\n\u001b[0;32m--> 538\u001b[0m     \u001b[38;5;28;43msuper\u001b[39;49m\u001b[43m(\u001b[49m\u001b[43m)\u001b[49m\u001b[38;5;241;43m.\u001b[39;49m\u001b[38;5;21;43m__init__\u001b[39;49m\u001b[43m(\u001b[49m\u001b[43mdata\u001b[49m\u001b[38;5;241;43m=\u001b[39;49m\u001b[43mdata\u001b[49m\u001b[43m,\u001b[49m\u001b[43m \u001b[49m\u001b[43mvariables\u001b[49m\u001b[38;5;241;43m=\u001b[39;49m\u001b[43mvariables\u001b[49m\u001b[43m)\u001b[49m\n\u001b[1;32m    540\u001b[0m     \u001b[38;5;28mself\u001b[39m\u001b[38;5;241m.\u001b[39mlegend \u001b[38;5;241m=\u001b[39m legend\n",
      "File \u001b[0;32m~/.local/lib/python3.8/site-packages/seaborn/_oldcore.py:640\u001b[0m, in \u001b[0;36mVectorPlotter.__init__\u001b[0;34m(self, data, variables)\u001b[0m\n\u001b[1;32m    635\u001b[0m \u001b[38;5;66;03m# var_ordered is relevant only for categorical axis variables, and may\u001b[39;00m\n\u001b[1;32m    636\u001b[0m \u001b[38;5;66;03m# be better handled by an internal axis information object that tracks\u001b[39;00m\n\u001b[1;32m    637\u001b[0m \u001b[38;5;66;03m# such information and is set up by the scale_* methods. The analogous\u001b[39;00m\n\u001b[1;32m    638\u001b[0m \u001b[38;5;66;03m# information for numeric axes would be information about log scales.\u001b[39;00m\n\u001b[1;32m    639\u001b[0m \u001b[38;5;28mself\u001b[39m\u001b[38;5;241m.\u001b[39m_var_ordered \u001b[38;5;241m=\u001b[39m {\u001b[38;5;124m\"\u001b[39m\u001b[38;5;124mx\u001b[39m\u001b[38;5;124m\"\u001b[39m: \u001b[38;5;28;01mFalse\u001b[39;00m, \u001b[38;5;124m\"\u001b[39m\u001b[38;5;124my\u001b[39m\u001b[38;5;124m\"\u001b[39m: \u001b[38;5;28;01mFalse\u001b[39;00m}  \u001b[38;5;66;03m# alt., used DefaultDict\u001b[39;00m\n\u001b[0;32m--> 640\u001b[0m \u001b[38;5;28;43mself\u001b[39;49m\u001b[38;5;241;43m.\u001b[39;49m\u001b[43massign_variables\u001b[49m\u001b[43m(\u001b[49m\u001b[43mdata\u001b[49m\u001b[43m,\u001b[49m\u001b[43m \u001b[49m\u001b[43mvariables\u001b[49m\u001b[43m)\u001b[49m\n\u001b[1;32m    642\u001b[0m \u001b[38;5;28;01mfor\u001b[39;00m var, \u001b[38;5;28mcls\u001b[39m \u001b[38;5;129;01min\u001b[39;00m \u001b[38;5;28mself\u001b[39m\u001b[38;5;241m.\u001b[39m_semantic_mappings\u001b[38;5;241m.\u001b[39mitems():\n\u001b[1;32m    643\u001b[0m \n\u001b[1;32m    644\u001b[0m     \u001b[38;5;66;03m# Create the mapping function\u001b[39;00m\n\u001b[1;32m    645\u001b[0m     map_func \u001b[38;5;241m=\u001b[39m partial(\u001b[38;5;28mcls\u001b[39m\u001b[38;5;241m.\u001b[39mmap, plotter\u001b[38;5;241m=\u001b[39m\u001b[38;5;28mself\u001b[39m)\n",
      "File \u001b[0;32m~/.local/lib/python3.8/site-packages/seaborn/_oldcore.py:701\u001b[0m, in \u001b[0;36mVectorPlotter.assign_variables\u001b[0;34m(self, data, variables)\u001b[0m\n\u001b[1;32m    699\u001b[0m \u001b[38;5;28;01melse\u001b[39;00m:\n\u001b[1;32m    700\u001b[0m     \u001b[38;5;28mself\u001b[39m\u001b[38;5;241m.\u001b[39minput_format \u001b[38;5;241m=\u001b[39m \u001b[38;5;124m\"\u001b[39m\u001b[38;5;124mlong\u001b[39m\u001b[38;5;124m\"\u001b[39m\n\u001b[0;32m--> 701\u001b[0m     plot_data, variables \u001b[38;5;241m=\u001b[39m \u001b[38;5;28;43mself\u001b[39;49m\u001b[38;5;241;43m.\u001b[39;49m\u001b[43m_assign_variables_longform\u001b[49m\u001b[43m(\u001b[49m\n\u001b[1;32m    702\u001b[0m \u001b[43m        \u001b[49m\u001b[43mdata\u001b[49m\u001b[43m,\u001b[49m\u001b[43m \u001b[49m\u001b[38;5;241;43m*\u001b[39;49m\u001b[38;5;241;43m*\u001b[39;49m\u001b[43mvariables\u001b[49m\u001b[43m,\u001b[49m\n\u001b[1;32m    703\u001b[0m \u001b[43m    \u001b[49m\u001b[43m)\u001b[49m\n\u001b[1;32m    705\u001b[0m \u001b[38;5;28mself\u001b[39m\u001b[38;5;241m.\u001b[39mplot_data \u001b[38;5;241m=\u001b[39m plot_data\n\u001b[1;32m    706\u001b[0m \u001b[38;5;28mself\u001b[39m\u001b[38;5;241m.\u001b[39mvariables \u001b[38;5;241m=\u001b[39m variables\n",
      "File \u001b[0;32m~/.local/lib/python3.8/site-packages/seaborn/_oldcore.py:938\u001b[0m, in \u001b[0;36mVectorPlotter._assign_variables_longform\u001b[0;34m(self, data, **kwargs)\u001b[0m\n\u001b[1;32m    933\u001b[0m \u001b[38;5;28;01melif\u001b[39;00m \u001b[38;5;28misinstance\u001b[39m(val, (\u001b[38;5;28mstr\u001b[39m, \u001b[38;5;28mbytes\u001b[39m)):\n\u001b[1;32m    934\u001b[0m \n\u001b[1;32m    935\u001b[0m     \u001b[38;5;66;03m# This looks like a column name but we don't know what it means!\u001b[39;00m\n\u001b[1;32m    937\u001b[0m     err \u001b[38;5;241m=\u001b[39m \u001b[38;5;124mf\u001b[39m\u001b[38;5;124m\"\u001b[39m\u001b[38;5;124mCould not interpret value `\u001b[39m\u001b[38;5;132;01m{\u001b[39;00mval\u001b[38;5;132;01m}\u001b[39;00m\u001b[38;5;124m` for parameter `\u001b[39m\u001b[38;5;132;01m{\u001b[39;00mkey\u001b[38;5;132;01m}\u001b[39;00m\u001b[38;5;124m`\u001b[39m\u001b[38;5;124m\"\u001b[39m\n\u001b[0;32m--> 938\u001b[0m     \u001b[38;5;28;01mraise\u001b[39;00m \u001b[38;5;167;01mValueError\u001b[39;00m(err)\n\u001b[1;32m    940\u001b[0m \u001b[38;5;28;01melse\u001b[39;00m:\n\u001b[1;32m    941\u001b[0m \n\u001b[1;32m    942\u001b[0m     \u001b[38;5;66;03m# Otherwise, assume the value is itself data\u001b[39;00m\n\u001b[1;32m    943\u001b[0m \n\u001b[1;32m    944\u001b[0m     \u001b[38;5;66;03m# Raise when data object is present and a vector can't matched\u001b[39;00m\n\u001b[1;32m    945\u001b[0m     \u001b[38;5;28;01mif\u001b[39;00m \u001b[38;5;28misinstance\u001b[39m(data, pd\u001b[38;5;241m.\u001b[39mDataFrame) \u001b[38;5;129;01mand\u001b[39;00m \u001b[38;5;129;01mnot\u001b[39;00m \u001b[38;5;28misinstance\u001b[39m(val, pd\u001b[38;5;241m.\u001b[39mSeries):\n",
      "\u001b[0;31mValueError\u001b[0m: Could not interpret value `plex` for parameter `style`"
     ]
    }
   ],
   "source": [
    "df = pd.read_csv(\"files/fermi_sources_v2.csv\")\n",
    "\n",
    "sns.scatterplot(df, x=theX.iloc[:, 0], y=theX.iloc[:, 1], hue=they, \n",
    "                style='plex', s=100, alpha=0.6)"
   ]
  },
  {
   "cell_type": "code",
   "execution_count": 13,
   "id": "1e6bff56-72e0-46ab-b6e6-5b5348d760e1",
   "metadata": {},
   "outputs": [
    {
     "data": {
      "text/plain": [
       "array([0, 2, 2, ..., 1, 0, 1])"
      ]
     },
     "execution_count": 13,
     "metadata": {},
     "output_type": "execute_result"
    }
   ],
   "source": [
    "ycopy.astype(int)"
   ]
  },
  {
   "cell_type": "code",
   "execution_count": null,
   "id": "71b39100-a099-4de0-9784-9bd8cde09a54",
   "metadata": {},
   "outputs": [],
   "source": []
  }
 ],
 "metadata": {
  "kernelspec": {
   "display_name": "Python 3 (ipykernel)",
   "language": "python",
   "name": "python3"
  },
  "language_info": {
   "codemirror_mode": {
    "name": "ipython",
    "version": 3
   },
   "file_extension": ".py",
   "mimetype": "text/x-python",
   "name": "python",
   "nbconvert_exporter": "python",
   "pygments_lexer": "ipython3",
   "version": "3.8.10"
  }
 },
 "nbformat": 4,
 "nbformat_minor": 5
}

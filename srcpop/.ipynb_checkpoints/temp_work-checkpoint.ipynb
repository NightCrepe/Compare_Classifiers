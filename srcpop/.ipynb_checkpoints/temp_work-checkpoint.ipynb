{
 "cells": [
  {
   "cell_type": "code",
   "execution_count": 10,
   "id": "e5467f90-c82a-4121-8e10-96962a4d1e30",
   "metadata": {},
   "outputs": [
    {
     "data": {
      "text/markdown": [
       "Read 6699 source entries from `files/fermi_sources_v2.csv`, selected 6491 with criteria 'delta<0.25 & curvature<1.01'"
      ],
      "text/plain": [
       "<utilities.ipynb_docgen.doc_formatter.<locals>.MimeBundleObject at 0x7fb35a5ed370>"
      ]
     },
     "metadata": {},
     "output_type": "display_data"
    }
   ],
   "source": [
    "%run pylib/fermi_sources-new\n",
    "fs_data = FermiSources('files/fermi_sources_v2.csv')\n",
    "#train = DataSet('log_nbb log_epeak pindex curvature category'.split(), 'bll fsrq psr'.split())"
   ]
  },
  {
   "cell_type": "code",
   "execution_count": 7,
   "id": "1923eab3-714f-47f7-9d27-31a0fae2f1ca",
   "metadata": {},
   "outputs": [],
   "source": [
    "X= fs_data.getXy"
   ]
  },
  {
   "cell_type": "code",
   "execution_count": 11,
   "id": "8bd44437-f6fe-4f72-9973-62652940e149",
   "metadata": {},
   "outputs": [
    {
     "data": {
      "text/html": [
       "<div style=\"margin-left: 25px\">\n",
       "        Scikit-learn specifications: \n",
       "        * features: ('log_nbb', 'log_epeak', 'pindex', 'curvature')\n",
       "        * target: association\n",
       "        * target_names: ('bll', 'fsrq', 'psr')</div>"
      ],
      "text/plain": [
       "<utilities.ipynb_docgen.doc_formatter.<locals>.MimeBundleObject at 0x7fb35a59c700>"
      ]
     },
     "metadata": {},
     "output_type": "display_data"
    }
   ],
   "source": [
    "show(fs_data.mlspec)"
   ]
  },
  {
   "cell_type": "code",
   "execution_count": null,
   "id": "4ef3063c-c8f0-4014-b6fd-71d26574a2bd",
   "metadata": {},
   "outputs": [],
   "source": [
    "df = pd.read_csv(\"files/fermi_sources_v2.csv\")"
   ]
  },
  {
   "cell_type": "code",
   "execution_count": 3,
   "id": "63bf387a-8685-4f26-8f27-b00543886526",
   "metadata": {},
   "outputs": [],
   "source": [
    "X,ay = train.Xy\n",
    "#y = np.zeros(ay.size)"
   ]
  },
  {
   "cell_type": "code",
   "execution_count": 4,
   "id": "ed55147f-488b-460c-9704-f42c2c7d9b7e",
   "metadata": {},
   "outputs": [],
   "source": [
    "y = ay.copy()\n",
    "for t in range(ay.size):\n",
    "    if ay[t] == 'bll':\n",
    "        y[t] = 0\n",
    "    elif ay[t] == 'fsrq':\n",
    "        y[t] = 1\n",
    "    elif ay[t] == 'psr':\n",
    "        y[t] = 2"
   ]
  },
  {
   "cell_type": "markdown",
   "id": "22af116f-a805-4c2a-95c9-891ea777c846",
   "metadata": {},
   "source": [
    "make 10 plots (1 for each classifier) with 1 variable for each axis (variables used for training), have the resulting plots have 3 colors for the source classification.\n",
    "\n",
    "\n",
    "Step 1: Train the program and isolate all the unidentified sources\n",
    "\n",
    "Step 2: Select 2 variables to plot\n",
    "\n",
    "Step 3: Be able to have 3 catagories\n",
    "\n",
    "Step 4: Make scatter plot of sources\n",
    "\n",
    "Step 5: Test accuracy of sources using different classifiers"
   ]
  },
  {
   "cell_type": "code",
   "execution_count": 5,
   "id": "32b4119a-0d06-4308-a998-08915ed7bc22",
   "metadata": {},
   "outputs": [],
   "source": [
    "from pathlib import Path\n",
    "import numpy as np\n",
    "import matplotlib.pyplot as plt\n",
    "from matplotlib.colors import ListedColormap\n",
    "from sklearn.model_selection import train_test_split\n",
    "from sklearn.preprocessing import StandardScaler\n",
    "from sklearn.pipeline import make_pipeline\n",
    "from sklearn.datasets import make_moons, make_circles, make_classification\n",
    "from sklearn.neural_network import MLPClassifier\n",
    "from sklearn.neighbors import KNeighborsClassifier\n",
    "from sklearn.svm import SVC\n",
    "from sklearn.gaussian_process import GaussianProcessClassifier\n",
    "from sklearn.gaussian_process.kernels import RBF\n",
    "from sklearn.tree import DecisionTreeClassifier\n",
    "from sklearn.ensemble import RandomForestClassifier, AdaBoostClassifier\n",
    "from sklearn.naive_bayes import GaussianNB\n",
    "from sklearn.discriminant_analysis import QuadraticDiscriminantAnalysis\n",
    "from sklearn.inspection import DecisionBoundaryDisplay"
   ]
  },
  {
   "cell_type": "markdown",
   "id": "47ea01db-6329-49dc-9b1f-69a8c722b57f",
   "metadata": {},
   "source": [
    "<h1> Red: BLL | Blue: Psr | Green:FSRQ </h1>"
   ]
  },
  {
   "cell_type": "code",
   "execution_count": 6,
   "id": "59f543cf-65ab-4a1f-9f41-e5d122995f8c",
   "metadata": {},
   "outputs": [
    {
     "name": "stdout",
     "output_type": "stream",
     "text": [
      "Nearest Neighbors\n",
      "Linear SVM\n",
      "RBF SVM\n",
      "Gaussian Process\n",
      "Decision Tree\n",
      "Random Forest\n",
      "Neural Net\n",
      "AdaBoost\n",
      "Naive Bayes\n",
      "QDA\n"
     ]
    },
    {
     "data": {
      "text/plain": [
       "<Figure size 400x2000 with 0 Axes>"
      ]
     },
     "metadata": {},
     "output_type": "display_data"
    }
   ],
   "source": [
    "p = Path('classifier_results')\n",
    "p.mkdir(exist_ok=True)\n",
    "\n",
    "names = [\n",
    "    \"Nearest Neighbors\",\n",
    "    \"Linear SVM\",\n",
    "    \"RBF SVM\",\n",
    "    \"Gaussian Process\",\n",
    "    \"Decision Tree\",\n",
    "    \"Random Forest\",\n",
    "    \"Neural Net\",\n",
    "    \"AdaBoost\",\n",
    "    \"Naive Bayes\",\n",
    "    \"QDA\",\n",
    "]\n",
    "\n",
    "classifiers = [\n",
    "    KNeighborsClassifier(3),\n",
    "    SVC(kernel=\"linear\", C=0.025),\n",
    "    SVC(gamma=2, C=1),\n",
    "    GaussianProcessClassifier(1.0 * RBF(1.0)),\n",
    "    DecisionTreeClassifier(),\n",
    "    RandomForestClassifier(n_estimators=100, max_features=2),\n",
    "    MLPClassifier(alpha=1, max_iter=1000),\n",
    "    AdaBoostClassifier(),\n",
    "    GaussianNB(),\n",
    "    QuadraticDiscriminantAnalysis(),\n",
    "]\n",
    "\n",
    "# the data sets\n",
    "datasets = [\n",
    "    (X.iloc[:,:2],y), #log_nbb and pindex\n",
    "    (X.iloc[:,::2],y), #log_nbb and curvature\n",
    "    (X.iloc[:,::3],y), #log_nbb and log e0\n",
    "    (X.iloc[:,1:3],y), #pindex and curvature\n",
    "    (X.iloc[:,1::2],y), #pindex and e0\n",
    "    (X.iloc[:,2:4],y) #curvature and e0\n",
    "]\n",
    "\n",
    "figure = plt.figure(figsize=(4, 20))\n",
    "\n",
    "i = 1\n",
    "#raw data\n",
    "for ds_cnt, ds in enumerate(datasets):\n",
    "    \n",
    "    # preprocess dataset, split into training and test part\n",
    "    theX, they = ds\n",
    "    X_train, X_test, y_train, y_test = train_test_split(\n",
    "        theX, they, test_size=0.4, random_state=42\n",
    "    )\n",
    "\n",
    "    x_min, x_max = theX.iloc[:, 0].min() - 0.5, theX.iloc[:, 0].max() + 0.5\n",
    "    y_min, y_max = theX.iloc[:, 1].min() - 0.5, theX.iloc[:, 1].max() + 0.5\n",
    "\n",
    "    # just plot the dataset first\n",
    "    cm = plt.cm.rainbow\n",
    "    cm_bright = ListedColormap([\"#5F00DB\", \"#5EDA94\", \"#DB0000\"]) #in order: bll, fsrq, psr\n",
    "    ax = plt.subplot(len(datasets), 1, i)\n",
    "    if ds_cnt == 0:\n",
    "        ax.set_title(\"Input data\")\n",
    "        \n",
    "    # Plot the training points\n",
    "    ax.scatter(X_train.iloc[:, 0], X_train.iloc[:, 1], c=y_train, cmap=cm_bright, edgecolors=\"k\")\n",
    "    \n",
    "    # Plot the testing points\n",
    "    ax.scatter(\n",
    "        X_test.iloc[:, 0], X_test.iloc[:, 1], c=y_test, cmap=cm_bright, alpha=0.6, edgecolors=\"k\"\n",
    "    )\n",
    "    ax.set_xlim(x_min, x_max)\n",
    "    ax.set_ylim(y_min, y_max)\n",
    "    ax.set_xticks(())\n",
    "    ax.set_yticks(())\n",
    "    i += 1\n",
    "    \n",
    "filename = p/'raw.png'\n",
    "plt.savefig(filename, bbox_inches='tight')\n",
    "\n",
    "\n",
    "# iterate over classifiers\n",
    "for name, clf in zip(names, classifiers):\n",
    "    i = 1\n",
    "    for ds_cnt, ds in enumerate(datasets):\n",
    "        theX, they = ds\n",
    "        X_train, X_test, y_train, y_test = train_test_split(\n",
    "            theX, they, test_size=0.4, random_state=42\n",
    "        )\n",
    "        \n",
    "        x_min, x_max = theX.iloc[:, 0].min() - 0.5, theX.iloc[:, 0].max() + 0.5\n",
    "        y_min, y_max = theX.iloc[:, 1].min() - 0.5, theX.iloc[:, 1].max() + 0.5\n",
    "        \n",
    "        ax = plt.subplot(len(datasets), 1, i)\n",
    "\n",
    "        clf = make_pipeline(StandardScaler(), clf)\n",
    "        clf.fit(X_train, y_train.to_numpy(dtype='int64'))\n",
    "        score = clf.score(X_test, y_test.to_numpy(dtype='int64'))\n",
    "        DecisionBoundaryDisplay.from_estimator(\n",
    "            clf, theX, cmap=cm, alpha=0.8, ax=ax, eps=0.5\n",
    "        )\n",
    "\n",
    "        # Plot the training points\n",
    "        ax.scatter(\n",
    "            X_train.iloc[:, 0], X_train.iloc[:, 1], c=y_train, cmap=cm_bright, edgecolors=\"k\"\n",
    "        )\n",
    "        # Plot the testing points\n",
    "        ax.scatter(\n",
    "            X_test.iloc[:, 0],\n",
    "            X_test.iloc[:, 1],\n",
    "            c=y_test,\n",
    "            cmap=cm_bright,\n",
    "            edgecolors=\"k\",\n",
    "            alpha=0.6,\n",
    "        )\n",
    "\n",
    "        ax.set_xlim(x_min, x_max)\n",
    "        ax.set_ylim(y_min, y_max)\n",
    "        ax.set_xticks(())\n",
    "        ax.set_yticks(())\n",
    "        if ds_cnt == 0:\n",
    "            ax.set_title(name)\n",
    "        ax.text(\n",
    "            x_max - 0.3,\n",
    "            y_min + 0.3,\n",
    "            (\"%.2f\" % score).lstrip(\"0\"),\n",
    "            size=15,\n",
    "            horizontalalignment=\"right\",\n",
    "        )\n",
    "        i += 1\n",
    "        \n",
    "    filename = p/f'{name}'\n",
    "    \n",
    "    plt.savefig(f'{filename}_plt.png', bbox_inches='tight')\n",
    "    figure.savefig(f'{filename}_fig.png', bbox_inches='tight')\n",
    "    \n",
    "    figure.clear()\n",
    "    print(name)\n",
    "    \n"
   ]
  },
  {
   "cell_type": "markdown",
   "id": "49aa6cf9-679e-4e7e-8e1d-872f13513ebc",
   "metadata": {},
   "source": [
    "AdaBoost: 78.66%\n",
    "\n",
    "Decision Tree: 72.5%\n",
    "\n",
    "Gaussian Process: 80.5%\n",
    "\n",
    "Linear SVM: 79.33%\n",
    "\n",
    "Naive Bayes: 79.16%\n",
    "\n",
    "Nearest Neighbor: 77%\n",
    "\n",
    "Neural Net: 80.66%\n",
    "\n",
    "QDA: 79.5%\n",
    "\n",
    "Random Forest: 76%\n",
    "\n",
    "RBF SVM: 80.83%"
   ]
  },
  {
   "cell_type": "code",
   "execution_count": 6,
   "id": "5f0083bb-1455-428a-b86a-82a9b0e05e48",
   "metadata": {},
   "outputs": [],
   "source": [
    "unid = fs_data.dataset('log_nbb pindex curvature log_e0 category'.split(), ['unid'])"
   ]
  },
  {
   "cell_type": "code",
   "execution_count": 7,
   "id": "66514a93-98a6-459c-a5f0-9dee96702f5a",
   "metadata": {},
   "outputs": [],
   "source": [
    "X_te = unid.Xy[0]"
   ]
  },
  {
   "cell_type": "code",
   "execution_count": 13,
   "id": "a0a3af50-c9b7-4d86-8a37-3938e9b7bd13",
   "metadata": {
    "tags": []
   },
   "outputs": [
    {
     "name": "stdout",
     "output_type": "stream",
     "text": [
      "Nearest Neighbors\n",
      "Linear SVM\n",
      "RBF SVM\n",
      "Decision Tree\n",
      "Random Forest\n",
      "Neural Net\n",
      "AdaBoost\n",
      "Naive Bayes\n",
      "QDA\n"
     ]
    },
    {
     "data": {
      "text/plain": [
       "<Figure size 500x2000 with 0 Axes>"
      ]
     },
     "metadata": {},
     "output_type": "display_data"
    }
   ],
   "source": [
    "p = Path('unid_results')\n",
    "p.mkdir(exist_ok=True)\n",
    "\n",
    "names = [\n",
    "    \"Nearest Neighbors\",\n",
    "    \"Linear SVM\",\n",
    "    \"RBF SVM\",\n",
    "    #\"Gaussian Process\",\n",
    "    \"Decision Tree\",\n",
    "    \"Random Forest\",\n",
    "    \"Neural Net\",\n",
    "    \"AdaBoost\",\n",
    "    \"Naive Bayes\",\n",
    "    \"QDA\",\n",
    "]\n",
    "\n",
    "classifiers = [\n",
    "    KNeighborsClassifier(3),\n",
    "    SVC(kernel=\"linear\", C=0.025),\n",
    "    SVC(gamma=2, C=1),\n",
    "    #GaussianProcessClassifier(),\n",
    "    DecisionTreeClassifier(),\n",
    "    RandomForestClassifier(n_estimators=100, max_features=2),\n",
    "    MLPClassifier(alpha=1, max_iter=1000),\n",
    "    AdaBoostClassifier(),\n",
    "    GaussianNB(),\n",
    "    QuadraticDiscriminantAnalysis(),\n",
    "]\n",
    "\n",
    "# the data sets\n",
    "datasets = [\n",
    "    (X.iloc[:,:2],y), #log_nbb and pindex\n",
    "    (X.iloc[:,::2],y), #log_nbb and curvature\n",
    "    (X.iloc[:,::3],y), #log_nbb and log e0\n",
    "    (X.iloc[:,1:3],y), #pindex and curvature\n",
    "    (X.iloc[:,1::2],y), #pindex and e0\n",
    "    (X.iloc[:,2:4],y) #curvature and e0\n",
    "]\n",
    "\n",
    "testval = [\n",
    "    (X_te.iloc[:,:2],y), #log_nbb and pindex\n",
    "    (X_te.iloc[:,::2],y), #log_nbb and curvature\n",
    "    (X_te.iloc[:,::3],y), #log_nbb and log e0\n",
    "    (X_te.iloc[:,1:3],y), #pindex and curvature\n",
    "    (X_te.iloc[:,1::2],y), #pindex and e0\n",
    "    (X_te.iloc[:,2:4],y) #curvature and e0\n",
    "]\n",
    "\n",
    "figure = plt.figure(figsize=(5, 20))\n",
    "\n",
    "# iterate over classifiers\n",
    "for name, clf in zip(names, classifiers):\n",
    "    i = 1\n",
    "    j = 0\n",
    "    \n",
    "    for ds_cnt, ds in enumerate(datasets):\n",
    "        theX, they = ds\n",
    "        model = clf\n",
    "        model.fit(X,ay)\n",
    "        \n",
    "        Xnew = testval[j][0]\n",
    "        ynew = model.predict(unid.Xy[0])\n",
    "        \n",
    "        x_min, x_max = theX.iloc[:, 0].min() - 0.5, theX.iloc[:, 0].max() + 0.5\n",
    "        y_min, y_max = theX.iloc[:, 1].min() - 0.5, theX.iloc[:, 1].max() + 0.5\n",
    "\n",
    "        cm = plt.cm.rainbow\n",
    "        cm_bright = ListedColormap([\"#5F00DB\", \"#5EDA94\", \"#DB0000\"]) #in order: bll, fsrq, psr\n",
    "        \n",
    "        ax = plt.subplot(len(datasets), 1, i)\n",
    "\n",
    "        clf = make_pipeline(StandardScaler(), clf)\n",
    "        clf.fit(theX, they.to_numpy(dtype='int64'))\n",
    "        #score = clf.score(Xnew, ynew)\n",
    "        DecisionBoundaryDisplay.from_estimator(\n",
    "            clf, theX, cmap=cm, alpha=0.8, ax=ax, eps=0.5\n",
    "        )\n",
    "        \n",
    "        #Plot the training points\n",
    "        ax.scatter(\n",
    "            theX.iloc[:, 0], theX.iloc[:, 1], c=they, cmap=cm_bright, edgecolors=\"k\", alpha=0.6,\n",
    "        )\n",
    "        # Plot the testing points\n",
    "        \n",
    "        ycopy = ynew.copy()\n",
    "        for t in range(ynew.size):\n",
    "            if ynew[t] == 'bll':\n",
    "                ycopy[t] = 0\n",
    "            elif ynew[t] == 'fsrq':\n",
    "                ycopy[t] = 1\n",
    "            elif ynew[t] == 'psr':\n",
    "                ycopy[t] = 2\n",
    "        ax.scatter(\n",
    "            Xnew.iloc[:, 0],\n",
    "            Xnew.iloc[:, 1],\n",
    "            c=ycopy.astype(int),\n",
    "            marker = '*',\n",
    "            cmap=cm_bright,\n",
    "            edgecolors=\"k\",\n",
    "            alpha=0.8,\n",
    "        )\n",
    "\n",
    "        ax.set_xlim(x_min, x_max)\n",
    "        ax.set_ylim(y_min, y_max)\n",
    "        ax.set_xticks(())\n",
    "        ax.set_yticks(())\n",
    "        if ds_cnt == 0:\n",
    "            ax.set_title(name)\n",
    "        #ax.text(\n",
    "        #    x_max - 0.3,\n",
    "        #    y_min + 0.3,\n",
    "        #    (\"%.2f\" % score).lstrip(\"0\"),\n",
    "        #    size=15,\n",
    "        #    horizontalalignment=\"right\",\n",
    "        #)\n",
    "        \n",
    "        i += 1\n",
    "        j += 1\n",
    "        \n",
    "    filename = p/f'{name}'\n",
    "    \n",
    "    plt.savefig(f'{filename}_plt.png', bbox_inches='tight')\n",
    "    \n",
    "    figure.clear()\n",
    "    print(name)\n",
    "    \n"
   ]
  },
  {
   "cell_type": "code",
   "execution_count": 13,
   "id": "1e6bff56-72e0-46ab-b6e6-5b5348d760e1",
   "metadata": {},
   "outputs": [
    {
     "data": {
      "text/plain": [
       "array([0, 2, 2, ..., 1, 0, 1])"
      ]
     },
     "execution_count": 13,
     "metadata": {},
     "output_type": "execute_result"
    }
   ],
   "source": [
    "ycopy.astype(int)"
   ]
  },
  {
   "cell_type": "code",
   "execution_count": null,
   "id": "71b39100-a099-4de0-9784-9bd8cde09a54",
   "metadata": {},
   "outputs": [],
   "source": []
  }
 ],
 "metadata": {
  "kernelspec": {
   "display_name": "Python 3 (ipykernel)",
   "language": "python",
   "name": "python3"
  },
  "language_info": {
   "codemirror_mode": {
    "name": "ipython",
    "version": 3
   },
   "file_extension": ".py",
   "mimetype": "text/x-python",
   "name": "python",
   "nbconvert_exporter": "python",
   "pygments_lexer": "ipython3",
   "version": "3.8.10"
  }
 },
 "nbformat": 4,
 "nbformat_minor": 5
}
